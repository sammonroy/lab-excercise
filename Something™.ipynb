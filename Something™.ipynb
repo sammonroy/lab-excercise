{
 "cells": [
  {
   "cell_type": "code",
   "execution_count": 5,
   "metadata": {},
   "outputs": [
    {
     "name": "stdin",
     "output_type": "stream",
     "text": [
      "whats your name?  praz\n",
      "whats your age?  100\n"
     ]
    },
    {
     "name": "stdout",
     "output_type": "stream",
     "text": [
      "praz, you are 80 years older than me\n"
     ]
    }
   ],
   "source": [
    "name = str(input(\"whats your name? \"))\n",
    "age = int(input(\"whats your age? \"))\n",
    "my_age = 20\n",
    "if age > my_age:\n",
    "    diffage = age - my_age\n",
    "    print(name + \", you are\" , diffage , \"years older than me\")\n",
    "elif age < my_age:\n",
    "    diffage = my_age- age\n",
    "    print(name + \", you are\" , diffage , \"years younger than me\")\n",
    "elif age == my_age:\n",
    "    print(name + \", you are the same age as me, yay!\")"
   ]
  },
  {
   "cell_type": "code",
   "execution_count": null,
   "metadata": {},
   "outputs": [],
   "source": []
  }
 ],
 "metadata": {
  "kernelspec": {
   "display_name": "Python 3",
   "language": "python",
   "name": "python3"
  },
  "language_info": {
   "codemirror_mode": {
    "name": "ipython",
    "version": 3
   },
   "file_extension": ".py",
   "mimetype": "text/x-python",
   "name": "python",
   "nbconvert_exporter": "python",
   "pygments_lexer": "ipython3",
   "version": "3.8.3"
  }
 },
 "nbformat": 4,
 "nbformat_minor": 4
}
